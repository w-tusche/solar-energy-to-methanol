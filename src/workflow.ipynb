{
 "cells": [
  {
   "cell_type": "code",
   "execution_count": null,
   "id": "a025e18f",
   "metadata": {},
   "outputs": [],
   "source": [
    "import os\n",
    "import methanol_synthesis\n",
    "import photosynthesis\n",
    "import photovoltaic\n",
    "import syngas_production\n",
    "import eta_data_and_table_creation\n",
    "import plots\n",
    "import sankeys\n",
    "from IPython.display import Image"
   ]
  },
  {
   "cell_type": "code",
   "execution_count": null,
   "id": "0b367200",
   "metadata": {},
   "outputs": [],
   "source": [
    "# Create photosynthesis data\n",
    "photosynthesis.main(output_dir=\"../data/results\")"
   ]
  },
  {
   "cell_type": "code",
   "execution_count": null,
   "id": "5bba6e7f",
   "metadata": {},
   "outputs": [],
   "source": [
    "# Create photovoltaic data\n",
    "photovoltaic.main(output_dir=\"../data/results\")"
   ]
  },
  {
   "cell_type": "code",
   "execution_count": null,
   "id": "f5845c59",
   "metadata": {},
   "outputs": [],
   "source": [
    "# Create syngas production data\n",
    "syngas_production.main(output_dir=\"../data/results\")"
   ]
  },
  {
   "cell_type": "code",
   "execution_count": null,
   "id": "84f6c38a",
   "metadata": {},
   "outputs": [],
   "source": [
    "# Create methanol synthesis data\n",
    "methanol_synthesis.main(output_dir=\"../data/results\")"
   ]
  },
  {
   "cell_type": "code",
   "execution_count": null,
   "id": "83004bcb",
   "metadata": {},
   "outputs": [],
   "source": [
    "# Create summary tables\n",
    "eta_data_and_table_creation.main(\n",
    "    input_dir=\"../data/results/\", output_dir=\"../data/results/\"\n",
    ")"
   ]
  },
  {
   "cell_type": "code",
   "execution_count": null,
   "id": "3d7b9e8d",
   "metadata": {},
   "outputs": [],
   "source": [
    "# Create all plots that were created with python (some where post processed using inkscape)\n",
    "output_path_figs = \"../img/\"\n",
    "input_path = \"../data/results/\"\n",
    "\n",
    "plots.main(input_path, output_path_figs)"
   ]
  },
  {
   "cell_type": "code",
   "execution_count": null,
   "id": "b96dfe07",
   "metadata": {},
   "outputs": [],
   "source": [
    "# Show sankeys\n",
    "Image(filename=\"../img/sankey_photosynthesis_w_text.png\")"
   ]
  },
  {
   "cell_type": "code",
   "execution_count": null,
   "id": "066d5378",
   "metadata": {},
   "outputs": [],
   "source": [
    "Image(filename=\"../img/sankey_digestion_w_text.png\")"
   ]
  },
  {
   "cell_type": "code",
   "execution_count": null,
   "id": "af0da74f",
   "metadata": {},
   "outputs": [],
   "source": [
    "Image(filename=\"../img/sankey_gasification_w_text.png\")"
   ]
  },
  {
   "cell_type": "code",
   "execution_count": null,
   "id": "dcd520da",
   "metadata": {},
   "outputs": [],
   "source": [
    "Image(filename=\"../img/sankey_electro_w_text.png\")"
   ]
  }
 ],
 "metadata": {
  "kernelspec": {
   "display_name": "",
   "language": "python",
   "name": ""
  },
  "language_info": {
   "codemirror_mode": {
    "name": "ipython",
    "version": 3
   },
   "file_extension": ".py",
   "mimetype": "text/x-python",
   "name": "python",
   "nbconvert_exporter": "python",
   "pygments_lexer": "ipython3",
   "version": "3.12.4"
  }
 },
 "nbformat": 4,
 "nbformat_minor": 5
}
